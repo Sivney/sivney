{
 "cells": [
  {
   "cell_type": "markdown",
   "metadata": {},
   "source": [
    "# Tringulation_Algorithm"
   ]
  },
  {
   "cell_type": "markdown",
   "metadata": {},
   "source": [
    "As polygon based  proximity analysis is not feasible for ML due to much discrete data\n",
    "so we came up this mathematcal model by which \n",
    "    1. Measure the distence.\n",
    "    2. check whether  location is in the visual range of camera or not.\n",
    "Using mathmatical model Triangulation  Algorithm."
   ]
  },
  {
   "cell_type": "code",
   "execution_count": 15,
   "metadata": {
    "colab": {},
    "colab_type": "code",
    "id": "GL3AmWXaj9rU"
   },
   "outputs": [],
   "source": [
    "# Python 3 program to calculate Distance Between Two locations on Earth \n",
    "from math import radians, cos, sin, asin, sqrt \n",
    "def Measure_distance(lat1, lat2, lon1, lon2): \n",
    " \n",
    "   # radians which converts from degrees to radians.  \n",
    "    lon1 = radians(lon1) \n",
    "    lon2 = radians(lon2) \n",
    "    lat1 = radians(lat1) \n",
    "    lat2 = radians(lat2) \n",
    "       \n",
    "    # Haversine formula\n",
    "    dlon = lon2 - lon1  \n",
    "    dlat = lat2 - lat1 \n",
    "    a = sin(dlat / 2)**2 + cos(lat1) * cos(lat2) * sin(dlon / 2)**2\n",
    "  \n",
    "    c = 2 * asin(sqrt(a))  \n",
    "     \n",
    "    # Radius of earth in kilometers\n",
    "    r = 6371\n",
    "       \n",
    "    return (c * r)\n",
    "    \n",
    "\n",
    "        "
   ]
  },
  {
   "cell_type": "code",
   "execution_count": 64,
   "metadata": {
    "colab": {},
    "colab_type": "code",
    "id": "UrfKyUc_lZmC"
   },
   "outputs": [],
   "source": [
    "#Function in Python3 to check whether location is in coverage of camera or not \n",
    "def checkCoverageByCamera(CameraPolygon,latitude,longitude):\n",
    "\n",
    "  #finding the bound range of the camera vision polygon .\n",
    "\n",
    "  min_longitude, min_latitude, max_longitude, max_latitude = CameraPolygon.bounds\n",
    "\n",
    "  #checking weather the location lying in camera vision polygon. \n",
    "\n",
    "  if ((latitude>=min_latitude or latitude<=max_latitude) and (longitude>=min_longitude or longitude<=max_longitude)):\n",
    "    return True\n",
    "  else:\n",
    "    return False\n"
   ]
  },
  {
   "cell_type": "code",
   "execution_count": 3,
   "metadata": {
    "colab": {
     "base_uri": "https://localhost:8080/",
     "height": 1000
    },
    "colab_type": "code",
    "id": "JI8uQt0wuIWM",
    "outputId": "c1c66e90-6c6b-4247-c8d4-fc75cdcee5a3"
   },
   "outputs": [
    {
     "data": {
      "text/html": [
       "<div>\n",
       "<style scoped>\n",
       "    .dataframe tbody tr th:only-of-type {\n",
       "        vertical-align: middle;\n",
       "    }\n",
       "\n",
       "    .dataframe tbody tr th {\n",
       "        vertical-align: top;\n",
       "    }\n",
       "\n",
       "    .dataframe thead th {\n",
       "        text-align: right;\n",
       "    }\n",
       "</style>\n",
       "<table border=\"1\" class=\"dataframe\">\n",
       "  <thead>\n",
       "    <tr style=\"text-align: right;\">\n",
       "      <th></th>\n",
       "      <th>Unnamed: 0</th>\n",
       "      <th>latitude</th>\n",
       "      <th>longitude</th>\n",
       "      <th>Address</th>\n",
       "      <th>geometry</th>\n",
       "      <th>left_max_latitude</th>\n",
       "      <th>left_max_longitude</th>\n",
       "      <th>right_min_latitude</th>\n",
       "      <th>right_max_longitude</th>\n",
       "    </tr>\n",
       "  </thead>\n",
       "  <tbody>\n",
       "    <tr>\n",
       "      <th>0</th>\n",
       "      <td>0</td>\n",
       "      <td>28.635285</td>\n",
       "      <td>77.208159</td>\n",
       "      <td>The Raymond Shop, Rajiv Chowk, Connaught Place...</td>\n",
       "      <td>POINT (28.63318943097652 77.06803455564209)</td>\n",
       "      <td>28.635316</td>\n",
       "      <td>77.208297</td>\n",
       "      <td>77.208215</td>\n",
       "      <td>28.635228</td>\n",
       "    </tr>\n",
       "    <tr>\n",
       "      <th>1</th>\n",
       "      <td>1</td>\n",
       "      <td>28.633282</td>\n",
       "      <td>77.209237</td>\n",
       "      <td>Nagar Palika Coeducational Day Boarding Middle...</td>\n",
       "      <td>POINT (28.77247205130779 76.93890746811567)</td>\n",
       "      <td>28.633314</td>\n",
       "      <td>77.209375</td>\n",
       "      <td>77.209293</td>\n",
       "      <td>28.633226</td>\n",
       "    </tr>\n",
       "    <tr>\n",
       "      <th>2</th>\n",
       "      <td>2</td>\n",
       "      <td>28.631474</td>\n",
       "      <td>77.209890</td>\n",
       "      <td>Lady Harding Medical College and Hospital (LHM...</td>\n",
       "      <td>POINT (28.81515437104942 77.1850354304507)</td>\n",
       "      <td>28.631506</td>\n",
       "      <td>77.210028</td>\n",
       "      <td>77.209946</td>\n",
       "      <td>28.631418</td>\n",
       "    </tr>\n",
       "    <tr>\n",
       "      <th>3</th>\n",
       "      <td>3</td>\n",
       "      <td>28.629173</td>\n",
       "      <td>77.209998</td>\n",
       "      <td>Karnail Singh Stadium, Basant Lane, Connaught ...</td>\n",
       "      <td>POINT (28.81726200310036 77.09526364268258)</td>\n",
       "      <td>28.629204</td>\n",
       "      <td>77.210136</td>\n",
       "      <td>77.210054</td>\n",
       "      <td>28.629116</td>\n",
       "    </tr>\n",
       "    <tr>\n",
       "      <th>4</th>\n",
       "      <td>4</td>\n",
       "      <td>28.619943</td>\n",
       "      <td>77.218974</td>\n",
       "      <td>Bangla Sahib Road, Lady Hardinge Medical Colle...</td>\n",
       "      <td>POINT (28.8154522568021 77.07057256207932)</td>\n",
       "      <td>28.619975</td>\n",
       "      <td>77.219112</td>\n",
       "      <td>77.219031</td>\n",
       "      <td>28.619887</td>\n",
       "    </tr>\n",
       "    <tr>\n",
       "      <th>5</th>\n",
       "      <td>5</td>\n",
       "      <td>28.626281</td>\n",
       "      <td>77.231472</td>\n",
       "      <td>Union Bank of India, Janpath, Connaught Place,...</td>\n",
       "      <td>POINT (28.59982285349993 76.89525923623383)</td>\n",
       "      <td>28.626312</td>\n",
       "      <td>77.231610</td>\n",
       "      <td>77.231528</td>\n",
       "      <td>28.626224</td>\n",
       "    </tr>\n",
       "    <tr>\n",
       "      <th>6</th>\n",
       "      <td>6</td>\n",
       "      <td>28.630508</td>\n",
       "      <td>77.222075</td>\n",
       "      <td>DIZ Area, New Delhi, Chanakya Puri Tehsil, Del...</td>\n",
       "      <td>POINT (28.73745186375873 76.98538172162245)</td>\n",
       "      <td>28.630540</td>\n",
       "      <td>77.222213</td>\n",
       "      <td>77.222131</td>\n",
       "      <td>28.630452</td>\n",
       "    </tr>\n",
       "    <tr>\n",
       "      <th>7</th>\n",
       "      <td>7</td>\n",
       "      <td>28.631191</td>\n",
       "      <td>77.222434</td>\n",
       "      <td>State Entry Road, New Delhi Railway Station, N...</td>\n",
       "      <td>POINT (28.75877414016262 77.02561895021785)</td>\n",
       "      <td>28.631223</td>\n",
       "      <td>77.222572</td>\n",
       "      <td>77.222490</td>\n",
       "      <td>28.631135</td>\n",
       "    </tr>\n",
       "    <tr>\n",
       "      <th>8</th>\n",
       "      <td>8</td>\n",
       "      <td>28.632414</td>\n",
       "      <td>77.222637</td>\n",
       "      <td>Aram Bagh, Paharganj, Karol Bagh Tehsil, Centr...</td>\n",
       "      <td>POINT (28.54184254717353 77.04305279578888)</td>\n",
       "      <td>28.632445</td>\n",
       "      <td>77.222775</td>\n",
       "      <td>77.222694</td>\n",
       "      <td>28.632357</td>\n",
       "    </tr>\n",
       "    <tr>\n",
       "      <th>9</th>\n",
       "      <td>9</td>\n",
       "      <td>28.633385</td>\n",
       "      <td>77.222619</td>\n",
       "      <td>Rajiv Chowk, Connaught Place, New Delhi, Chana...</td>\n",
       "      <td>POINT (28.86773667474325 77.09335672889853)</td>\n",
       "      <td>28.633417</td>\n",
       "      <td>77.222757</td>\n",
       "      <td>77.222675</td>\n",
       "      <td>28.633329</td>\n",
       "    </tr>\n",
       "    <tr>\n",
       "      <th>10</th>\n",
       "      <td>10</td>\n",
       "      <td>28.634728</td>\n",
       "      <td>77.222329</td>\n",
       "      <td>Connaught Place, New Delhi, Chanakya Puri Tehs...</td>\n",
       "      <td>POINT (28.78730294570798 77.0450057938418)</td>\n",
       "      <td>28.634760</td>\n",
       "      <td>77.222467</td>\n",
       "      <td>77.222386</td>\n",
       "      <td>28.634672</td>\n",
       "    </tr>\n",
       "    <tr>\n",
       "      <th>11</th>\n",
       "      <td>11</td>\n",
       "      <td>28.635365</td>\n",
       "      <td>77.220674</td>\n",
       "      <td>Connaught Place, New Delhi, Chanakya Puri Tehs...</td>\n",
       "      <td>POINT (28.69717613138835 77.04852577404529)</td>\n",
       "      <td>28.635396</td>\n",
       "      <td>77.220812</td>\n",
       "      <td>77.220730</td>\n",
       "      <td>28.635308</td>\n",
       "    </tr>\n",
       "    <tr>\n",
       "      <th>12</th>\n",
       "      <td>12</td>\n",
       "      <td>28.637982</td>\n",
       "      <td>77.219788</td>\n",
       "      <td>Tolstoy Marg, Connaught Place, New Delhi, Chan...</td>\n",
       "      <td>POINT (28.75696806058345 77.12597021030778)</td>\n",
       "      <td>28.638013</td>\n",
       "      <td>77.219926</td>\n",
       "      <td>77.219844</td>\n",
       "      <td>28.637925</td>\n",
       "    </tr>\n",
       "    <tr>\n",
       "      <th>13</th>\n",
       "      <td>13</td>\n",
       "      <td>28.641717</td>\n",
       "      <td>77.217786</td>\n",
       "      <td>Kalawati Saran Children's Hospital, Bangla Sah...</td>\n",
       "      <td>POINT (28.63108556953457 77.10483914436581)</td>\n",
       "      <td>28.641749</td>\n",
       "      <td>77.217924</td>\n",
       "      <td>77.217843</td>\n",
       "      <td>28.641661</td>\n",
       "    </tr>\n",
       "    <tr>\n",
       "      <th>14</th>\n",
       "      <td>14</td>\n",
       "      <td>28.640465</td>\n",
       "      <td>77.208440</td>\n",
       "      <td>Connaught Place, New Delhi, Chanakya Puri Tehs...</td>\n",
       "      <td>POINT (28.5929311030703 77.09967046305277)</td>\n",
       "      <td>28.640496</td>\n",
       "      <td>77.208578</td>\n",
       "      <td>77.208496</td>\n",
       "      <td>28.640408</td>\n",
       "    </tr>\n",
       "    <tr>\n",
       "      <th>15</th>\n",
       "      <td>15</td>\n",
       "      <td>28.635285</td>\n",
       "      <td>77.208159</td>\n",
       "      <td>Aram Bagh, Paharganj, Karol Bagh Tehsil, Centr...</td>\n",
       "      <td>POINT (28.55391564016995 77.12581273559357)</td>\n",
       "      <td>28.635316</td>\n",
       "      <td>77.208297</td>\n",
       "      <td>77.208215</td>\n",
       "      <td>28.635228</td>\n",
       "    </tr>\n",
       "  </tbody>\n",
       "</table>\n",
       "</div>"
      ],
      "text/plain": [
       "    Unnamed: 0   latitude  longitude  \\\n",
       "0            0  28.635285  77.208159   \n",
       "1            1  28.633282  77.209237   \n",
       "2            2  28.631474  77.209890   \n",
       "3            3  28.629173  77.209998   \n",
       "4            4  28.619943  77.218974   \n",
       "5            5  28.626281  77.231472   \n",
       "6            6  28.630508  77.222075   \n",
       "7            7  28.631191  77.222434   \n",
       "8            8  28.632414  77.222637   \n",
       "9            9  28.633385  77.222619   \n",
       "10          10  28.634728  77.222329   \n",
       "11          11  28.635365  77.220674   \n",
       "12          12  28.637982  77.219788   \n",
       "13          13  28.641717  77.217786   \n",
       "14          14  28.640465  77.208440   \n",
       "15          15  28.635285  77.208159   \n",
       "\n",
       "                                              Address  \\\n",
       "0   The Raymond Shop, Rajiv Chowk, Connaught Place...   \n",
       "1   Nagar Palika Coeducational Day Boarding Middle...   \n",
       "2   Lady Harding Medical College and Hospital (LHM...   \n",
       "3   Karnail Singh Stadium, Basant Lane, Connaught ...   \n",
       "4   Bangla Sahib Road, Lady Hardinge Medical Colle...   \n",
       "5   Union Bank of India, Janpath, Connaught Place,...   \n",
       "6   DIZ Area, New Delhi, Chanakya Puri Tehsil, Del...   \n",
       "7   State Entry Road, New Delhi Railway Station, N...   \n",
       "8   Aram Bagh, Paharganj, Karol Bagh Tehsil, Centr...   \n",
       "9   Rajiv Chowk, Connaught Place, New Delhi, Chana...   \n",
       "10  Connaught Place, New Delhi, Chanakya Puri Tehs...   \n",
       "11  Connaught Place, New Delhi, Chanakya Puri Tehs...   \n",
       "12  Tolstoy Marg, Connaught Place, New Delhi, Chan...   \n",
       "13  Kalawati Saran Children's Hospital, Bangla Sah...   \n",
       "14  Connaught Place, New Delhi, Chanakya Puri Tehs...   \n",
       "15  Aram Bagh, Paharganj, Karol Bagh Tehsil, Centr...   \n",
       "\n",
       "                                       geometry  left_max_latitude  \\\n",
       "0   POINT (28.63318943097652 77.06803455564209)          28.635316   \n",
       "1   POINT (28.77247205130779 76.93890746811567)          28.633314   \n",
       "2    POINT (28.81515437104942 77.1850354304507)          28.631506   \n",
       "3   POINT (28.81726200310036 77.09526364268258)          28.629204   \n",
       "4    POINT (28.8154522568021 77.07057256207932)          28.619975   \n",
       "5   POINT (28.59982285349993 76.89525923623383)          28.626312   \n",
       "6   POINT (28.73745186375873 76.98538172162245)          28.630540   \n",
       "7   POINT (28.75877414016262 77.02561895021785)          28.631223   \n",
       "8   POINT (28.54184254717353 77.04305279578888)          28.632445   \n",
       "9   POINT (28.86773667474325 77.09335672889853)          28.633417   \n",
       "10   POINT (28.78730294570798 77.0450057938418)          28.634760   \n",
       "11  POINT (28.69717613138835 77.04852577404529)          28.635396   \n",
       "12  POINT (28.75696806058345 77.12597021030778)          28.638013   \n",
       "13  POINT (28.63108556953457 77.10483914436581)          28.641749   \n",
       "14   POINT (28.5929311030703 77.09967046305277)          28.640496   \n",
       "15  POINT (28.55391564016995 77.12581273559357)          28.635316   \n",
       "\n",
       "    left_max_longitude  right_min_latitude  right_max_longitude  \n",
       "0            77.208297           77.208215            28.635228  \n",
       "1            77.209375           77.209293            28.633226  \n",
       "2            77.210028           77.209946            28.631418  \n",
       "3            77.210136           77.210054            28.629116  \n",
       "4            77.219112           77.219031            28.619887  \n",
       "5            77.231610           77.231528            28.626224  \n",
       "6            77.222213           77.222131            28.630452  \n",
       "7            77.222572           77.222490            28.631135  \n",
       "8            77.222775           77.222694            28.632357  \n",
       "9            77.222757           77.222675            28.633329  \n",
       "10           77.222467           77.222386            28.634672  \n",
       "11           77.220812           77.220730            28.635308  \n",
       "12           77.219926           77.219844            28.637925  \n",
       "13           77.217924           77.217843            28.641661  \n",
       "14           77.208578           77.208496            28.640408  \n",
       "15           77.208297           77.208215            28.635228  "
      ]
     },
     "execution_count": 3,
     "metadata": {},
     "output_type": "execute_result"
    }
   ],
   "source": [
    "import pandas as pd\n",
    "camera_coordinates=pd.read_csv('camera_coordinates.csv')\n",
    "camera_coordinates"
   ]
  },
  {
   "cell_type": "code",
   "execution_count": 8,
   "metadata": {
    "colab": {},
    "colab_type": "code",
    "id": "krs7GTsCufAl"
   },
   "outputs": [
    {
     "name": "stdout",
     "output_type": "stream",
     "text": [
      "Collecting shapely\n",
      "  Downloading https://files.pythonhosted.org/packages/20/fa/c96d3461fda99ed8e82ff0b219ac2c8384694b4e640a611a1a8390ecd415/Shapely-1.7.0-cp36-cp36m-manylinux1_x86_64.whl (1.8MB)\n",
      "\u001b[K    100% |████████████████████████████████| 1.8MB 237kB/s ta 0:00:01\n",
      "\u001b[?25hInstalling collected packages: shapely\n",
      "Successfully installed shapely-1.7.0\n"
     ]
    }
   ],
   "source": [
    "import sys\n",
    "!{sys.executable} -m pip install shapely"
   ]
  },
  {
   "cell_type": "code",
   "execution_count": 36,
   "metadata": {
    "colab": {
     "base_uri": "https://localhost:8080/",
     "height": 367
    },
    "colab_type": "code",
    "id": "xawLEewpooA7",
    "outputId": "30b33c10-3494-4e42-a388-e8d78b6a39e4"
   },
   "outputs": [],
   "source": [
    " #################################################Making of Unit test case.###############################################\n",
    "\n",
    "from shapely.geometry import Polygon, Point \n",
    "import random\n",
    "def random_points_within(poly, num_points):\n",
    "    min_x, min_y, max_x, max_y = poly.bounds\n",
    "\n",
    "    points = [()]\n",
    "\n",
    "    while len(points) < num_points:       #O(n)\n",
    "        random_point = Point([random.uniform(min_x, max_x), random.uniform(min_y, max_y)])\n",
    "        if (random_point.within(poly)):\n",
    "            points.append(random_point)\n",
    "\n",
    "    return points \n",
    "\n",
    "\n",
    "##########################################Generating random points lying inside and on the   the boundary########################\n",
    "poly=Polygon([(28.635285, 77.208159), (28.635316, 77.208297), (28.635228, 77.208215)])\n",
    "points_1st_condition=random_points_within(poly,5)\n",
    "\n",
    "##########################################Generating random point lying out side the boundary#########################\n",
    "\n",
    "poly=Polygon([(28.645285, 77.208159), (28.645316, 77.208297), (28.645228, 77.208215)])\n",
    "points_2nd_condition=random_points_within(poly,5)\n",
    "\n",
    "\n",
    "\n",
    "\n",
    "\n",
    "\n",
    "\n",
    "\n"
   ]
  },
  {
   "cell_type": "code",
   "execution_count": 33,
   "metadata": {},
   "outputs": [],
   "source": [
    "l=[]\n",
    "for p in points_1st_condition:\n",
    "    l.append(Measure_distance(28.635285,p.x,77.208159,p.y))\n",
    "\n",
    "    \n",
    "    "
   ]
  },
  {
   "cell_type": "code",
   "execution_count": 54,
   "metadata": {},
   "outputs": [
    {
     "data": {
      "text/plain": [
       "[0.004672048024466607,\n",
       " 0.012349032088894386,\n",
       " 0.003333387426690957,\n",
       " 0.006068820369948717]"
      ]
     },
     "execution_count": 54,
     "metadata": {},
     "output_type": "execute_result"
    }
   ],
   "source": [
    "#distence in KM.\n",
    "l"
   ]
  },
  {
   "cell_type": "code",
   "execution_count": 31,
   "metadata": {},
   "outputs": [],
   "source": [
    "k=[]\n",
    "for p in points_1st_condition:\n",
    "    k.append(checkCoverageByCamera(Polygon([(28.635285, 77.208159), (28.635316, 77.208297), (28.635228, 77.208215)]),p.x,p.y))"
   ]
  },
  {
   "cell_type": "code",
   "execution_count": 32,
   "metadata": {},
   "outputs": [
    {
     "data": {
      "text/plain": [
       "[True, True, True, True]"
      ]
     },
     "execution_count": 32,
     "metadata": {},
     "output_type": "execute_result"
    }
   ],
   "source": [
    "#whether the coverage is possible or not\n",
    "k"
   ]
  },
  {
   "cell_type": "code",
   "execution_count": 40,
   "metadata": {},
   "outputs": [],
   "source": [
    "l2=[]\n",
    "for p in points_2nd_condition:\n",
    "    l2.append(Measure_distance(28.635285,p.x,77.208159,p.y))"
   ]
  },
  {
   "cell_type": "code",
   "execution_count": 41,
   "metadata": {},
   "outputs": [
    {
     "data": {
      "text/plain": [
       "[1.110048857328783, 1.1108699385846825, 1.113046428321562, 1.1103905229528372]"
      ]
     },
     "execution_count": 41,
     "metadata": {},
     "output_type": "execute_result"
    }
   ],
   "source": [
    "#distence in KM.\n",
    "l2"
   ]
  },
  {
   "cell_type": "code",
   "execution_count": 68,
   "metadata": {},
   "outputs": [],
   "source": [
    "\n",
    "k2=[]\n",
    "for p in points_2nd_condition:\n",
    "    k.append(checkCoverageByCamera(Polygon([(28.635985, 77.209159), (28.635316, 77.208297), (28.635228, 77.208215)]),p.x,p.y))"
   ]
  },
  {
   "cell_type": "code",
   "execution_count": 76,
   "metadata": {},
   "outputs": [
    {
     "data": {
      "text/plain": [
       "[False, False, False, False]"
      ]
     },
     "execution_count": 76,
     "metadata": {},
     "output_type": "execute_result"
    }
   ],
   "source": [
    "#whether the coverage is possible or not\n",
    "k2"
   ]
  }
 ],
 "metadata": {
  "colab": {
   "collapsed_sections": [],
   "name": "CCTV Finding CCTV.ipynb",
   "provenance": []
  },
  "kernelspec": {
   "display_name": "Python 3",
   "language": "python",
   "name": "python3"
  },
  "language_info": {
   "codemirror_mode": {
    "name": "ipython",
    "version": 3
   },
   "file_extension": ".py",
   "mimetype": "text/x-python",
   "name": "python",
   "nbconvert_exporter": "python",
   "pygments_lexer": "ipython3",
   "version": "3.6.9"
  }
 },
 "nbformat": 4,
 "nbformat_minor": 1
}
